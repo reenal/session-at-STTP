{
 "cells": [
  {
   "cell_type": "code",
   "execution_count": null,
   "metadata": {
    "colab": {
     "base_uri": "https://localhost:8080/"
    },
    "executionInfo": {
     "elapsed": 2239,
     "status": "ok",
     "timestamp": 1733344317763,
     "user": {
      "displayName": "Reenal Boddul",
      "userId": "02957507870695799921"
     },
     "user_tz": -60
    },
    "id": "4Godn5KxQzfX",
    "outputId": "57e0d2d4-3083-4942-b38d-82e0999b2562"
   },
   "outputs": [],
   "source": [
    "from google.colab import drive\n",
    "drive.mount('/content/drive')"
   ]
  },
  {
   "cell_type": "code",
   "execution_count": null,
   "metadata": {
    "colab": {
     "base_uri": "https://localhost:8080/"
    },
    "executionInfo": {
     "elapsed": 485,
     "status": "ok",
     "timestamp": 1733344319522,
     "user": {
      "displayName": "Reenal Boddul",
      "userId": "02957507870695799921"
     },
     "user_tz": -60
    },
    "id": "-Db7sd4MprR1",
    "outputId": "30924c66-9920-44dc-ffc6-1ecaf542ba77"
   },
   "outputs": [],
   "source": [
    "print(\"OK!\")"
   ]
  },
  {
   "cell_type": "code",
   "execution_count": 3,
   "metadata": {
    "executionInfo": {
     "elapsed": 3916,
     "status": "ok",
     "timestamp": 1733344323777,
     "user": {
      "displayName": "Reenal Boddul",
      "userId": "02957507870695799921"
     },
     "user_tz": -60
    },
    "id": "jzD_ylViqHRd"
   },
   "outputs": [],
   "source": [
    "!pip -q install chromadb openai langchain tiktoken"
   ]
  },
  {
   "cell_type": "code",
   "execution_count": null,
   "metadata": {
    "colab": {
     "base_uri": "https://localhost:8080/"
    },
    "executionInfo": {
     "elapsed": 3373,
     "status": "ok",
     "timestamp": 1733344329482,
     "user": {
      "displayName": "Reenal Boddul",
      "userId": "02957507870695799921"
     },
     "user_tz": -60
    },
    "id": "qZJnhMAzqdHt",
    "outputId": "308e08a2-5b85-4da9-cdd0-ba398125c001"
   },
   "outputs": [],
   "source": [
    "!pip show chromadb"
   ]
  },
  {
   "cell_type": "code",
   "execution_count": 5,
   "metadata": {
    "executionInfo": {
     "elapsed": 3541,
     "status": "ok",
     "timestamp": 1733344334249,
     "user": {
      "displayName": "Reenal Boddul",
      "userId": "02957507870695799921"
     },
     "user_tz": -60
    },
    "id": "cH6uqRZSqsON"
   },
   "outputs": [],
   "source": [
    "!wget -q https://www.dropbox.com/s/vs6ocyvpzzncvwh/new_articles.zip"
   ]
  },
  {
   "cell_type": "code",
   "execution_count": null,
   "metadata": {
    "colab": {
     "base_uri": "https://localhost:8080/"
    },
    "executionInfo": {
     "elapsed": 74415,
     "status": "ok",
     "timestamp": 1733344408648,
     "user": {
      "displayName": "Reenal Boddul",
      "userId": "02957507870695799921"
     },
     "user_tz": -60
    },
    "id": "6BJJ51qbrSGP",
    "outputId": "e32a1775-236d-4e7d-8d93-38076320ddb3"
   },
   "outputs": [],
   "source": [
    "!unzip -q new_articles.zip -d new_articles"
   ]
  },
  {
   "cell_type": "markdown",
   "metadata": {
    "id": "1cmkL7vlsCgk"
   },
   "source": [
    "## Setting up Environment"
   ]
  },
  {
   "cell_type": "code",
   "execution_count": 7,
   "metadata": {
    "executionInfo": {
     "elapsed": 3,
     "status": "ok",
     "timestamp": 1733344408648,
     "user": {
      "displayName": "Reenal Boddul",
      "userId": "02957507870695799921"
     },
     "user_tz": -60
    },
    "id": "SFJM3znisBuM"
   },
   "outputs": [],
   "source": [
    "import os\n",
    "\n",
    "os.environ['OPENAI_API_KEY'] = \"\""
   ]
  },
  {
   "cell_type": "markdown",
   "metadata": {
    "id": "7_F76skAsWI8"
   },
   "source": [
    "## Import some libraries"
   ]
  },
  {
   "cell_type": "code",
   "execution_count": null,
   "metadata": {
    "colab": {
     "base_uri": "https://localhost:8080/"
    },
    "executionInfo": {
     "elapsed": 9845,
     "status": "ok",
     "timestamp": 1733344423148,
     "user": {
      "displayName": "Reenal Boddul",
      "userId": "02957507870695799921"
     },
     "user_tz": -60
    },
    "id": "NIETo_bKR_l4",
    "outputId": "c71a845c-2b4d-4e7b-a628-787bdfb512d0"
   },
   "outputs": [],
   "source": [
    "!pip install -U langchain-community\n"
   ]
  },
  {
   "cell_type": "code",
   "execution_count": 9,
   "metadata": {
    "executionInfo": {
     "elapsed": 2261,
     "status": "ok",
     "timestamp": 1733344434141,
     "user": {
      "displayName": "Reenal Boddul",
      "userId": "02957507870695799921"
     },
     "user_tz": -60
    },
    "id": "oShJCP_-sTP1"
   },
   "outputs": [],
   "source": [
    "from langchain.vectorstores import Chroma\n",
    "from langchain.embeddings import OpenAIEmbeddings\n",
    "from langchain.llms import OpenAI\n",
    "from langchain.document_loaders import DirectoryLoader\n",
    "from langchain.document_loaders import TextLoader"
   ]
  },
  {
   "cell_type": "markdown",
   "metadata": {
    "id": "koOlGaoMt6N1"
   },
   "source": [
    "## Load data"
   ]
  },
  {
   "cell_type": "code",
   "execution_count": 10,
   "metadata": {
    "executionInfo": {
     "elapsed": 482,
     "status": "ok",
     "timestamp": 1733344438675,
     "user": {
      "displayName": "Reenal Boddul",
      "userId": "02957507870695799921"
     },
     "user_tz": -60
    },
    "id": "fIUfmg34t36V"
   },
   "outputs": [],
   "source": [
    "loader = DirectoryLoader(\"/content/new_articles/\", glob = \"./*.txt\", loader_cls= TextLoader)"
   ]
  },
  {
   "cell_type": "code",
   "execution_count": 11,
   "metadata": {
    "executionInfo": {
     "elapsed": 478,
     "status": "ok",
     "timestamp": 1733344441064,
     "user": {
      "displayName": "Reenal Boddul",
      "userId": "02957507870695799921"
     },
     "user_tz": -60
    },
    "id": "4PbOvt1uujSO"
   },
   "outputs": [],
   "source": [
    "document = loader.load()"
   ]
  },
  {
   "cell_type": "code",
   "execution_count": null,
   "metadata": {
    "colab": {
     "base_uri": "https://localhost:8080/"
    },
    "executionInfo": {
     "elapsed": 663,
     "status": "ok",
     "timestamp": 1733344442908,
     "user": {
      "displayName": "Reenal Boddul",
      "userId": "02957507870695799921"
     },
     "user_tz": -60
    },
    "id": "inwfWQSwunic",
    "outputId": "5684c9cf-541e-4ee7-8086-462dfaef7baf"
   },
   "outputs": [],
   "source": [
    "document"
   ]
  },
  {
   "cell_type": "code",
   "execution_count": 13,
   "metadata": {
    "executionInfo": {
     "elapsed": 346,
     "status": "ok",
     "timestamp": 1733344444677,
     "user": {
      "displayName": "Reenal Boddul",
      "userId": "02957507870695799921"
     },
     "user_tz": -60
    },
    "id": "zzJh-irguoxF"
   },
   "outputs": [],
   "source": [
    "from langchain.text_splitter import RecursiveCharacterTextSplitter"
   ]
  },
  {
   "cell_type": "code",
   "execution_count": 14,
   "metadata": {
    "executionInfo": {
     "elapsed": 349,
     "status": "ok",
     "timestamp": 1733344446020,
     "user": {
      "displayName": "Reenal Boddul",
      "userId": "02957507870695799921"
     },
     "user_tz": -60
    },
    "id": "ON8O7cw4w-0e"
   },
   "outputs": [],
   "source": [
    "text_splitter = RecursiveCharacterTextSplitter(chunk_size = 1000, chunk_overlap = 200)\n",
    "text = text_splitter.split_documents(document)"
   ]
  },
  {
   "cell_type": "code",
   "execution_count": null,
   "metadata": {
    "colab": {
     "base_uri": "https://localhost:8080/"
    },
    "executionInfo": {
     "elapsed": 1082,
     "status": "ok",
     "timestamp": 1733344448261,
     "user": {
      "displayName": "Reenal Boddul",
      "userId": "02957507870695799921"
     },
     "user_tz": -60
    },
    "id": "jx6nzQuaxZk-",
    "outputId": "0f783cbc-5d47-4bf3-d575-025cd27ddf15"
   },
   "outputs": [],
   "source": [
    "text"
   ]
  },
  {
   "cell_type": "code",
   "execution_count": null,
   "metadata": {
    "colab": {
     "base_uri": "https://localhost:8080/"
    },
    "executionInfo": {
     "elapsed": 350,
     "status": "ok",
     "timestamp": 1733344450415,
     "user": {
      "displayName": "Reenal Boddul",
      "userId": "02957507870695799921"
     },
     "user_tz": -60
    },
    "id": "8y-9W90zxbZu",
    "outputId": "18dda967-c626-47cc-8bbd-a58fdfef4ac1"
   },
   "outputs": [],
   "source": [
    "len(text)"
   ]
  },
  {
   "cell_type": "code",
   "execution_count": null,
   "metadata": {
    "colab": {
     "base_uri": "https://localhost:8080/"
    },
    "executionInfo": {
     "elapsed": 3,
     "status": "ok",
     "timestamp": 1733344451650,
     "user": {
      "displayName": "Reenal Boddul",
      "userId": "02957507870695799921"
     },
     "user_tz": -60
    },
    "id": "8N5s6787xwu2",
    "outputId": "aa10c533-7f2c-45d2-85ee-fa667a4b4aa4"
   },
   "outputs": [],
   "source": [
    "text[1]"
   ]
  },
  {
   "cell_type": "code",
   "execution_count": null,
   "metadata": {
    "colab": {
     "base_uri": "https://localhost:8080/"
    },
    "executionInfo": {
     "elapsed": 2,
     "status": "ok",
     "timestamp": 1733344452723,
     "user": {
      "displayName": "Reenal Boddul",
      "userId": "02957507870695799921"
     },
     "user_tz": -60
    },
    "id": "cm82PO16xz6l",
    "outputId": "9a5f77a9-18c8-4f66-fc80-7b035e432c39"
   },
   "outputs": [],
   "source": [
    "text[2]"
   ]
  },
  {
   "cell_type": "markdown",
   "metadata": {
    "id": "q7TDFJZex-6e"
   },
   "source": [
    "## Creating DB"
   ]
  },
  {
   "cell_type": "code",
   "execution_count": 20,
   "metadata": {
    "executionInfo": {
     "elapsed": 4557,
     "status": "ok",
     "timestamp": 1733344628479,
     "user": {
      "displayName": "Reenal Boddul",
      "userId": "02957507870695799921"
     },
     "user_tz": -60
    },
    "id": "X6_rdqv-x2bu"
   },
   "outputs": [],
   "source": [
    "from langchain import embeddings\n",
    "persist_directory = 'db'\n",
    "\n",
    "embedding = OpenAIEmbeddings()\n",
    "\n",
    "vectordb = Chroma.from_documents(documents=text,\n",
    "                                 embedding=embedding,\n",
    "                                 persist_directory=persist_directory)"
   ]
  },
  {
   "cell_type": "code",
   "execution_count": null,
   "metadata": {
    "colab": {
     "base_uri": "https://localhost:8080/"
    },
    "executionInfo": {
     "elapsed": 364,
     "status": "ok",
     "timestamp": 1733344642672,
     "user": {
      "displayName": "Reenal Boddul",
      "userId": "02957507870695799921"
     },
     "user_tz": -60
    },
    "id": "e1SRIkNRylRt",
    "outputId": "53f0fa3a-b87c-49a7-ff04-8e4b36df316c"
   },
   "outputs": [],
   "source": [
    "# persiste the db to disk\n",
    "vectordb.persist()\n",
    "vectordb = None"
   ]
  },
  {
   "cell_type": "code",
   "execution_count": null,
   "metadata": {
    "colab": {
     "base_uri": "https://localhost:8080/"
    },
    "executionInfo": {
     "elapsed": 512,
     "status": "ok",
     "timestamp": 1733344644796,
     "user": {
      "displayName": "Reenal Boddul",
      "userId": "02957507870695799921"
     },
     "user_tz": -60
    },
    "id": "nJhjbCLhz7FV",
    "outputId": "81d259ae-c97d-4abb-e1e2-4b8aae229f2a"
   },
   "outputs": [],
   "source": [
    "# Now we can load the persisted database from disk, and use it as normal.\n",
    "vectordb = Chroma(persist_directory=persist_directory,\n",
    "                  embedding_function=embedding)"
   ]
  },
  {
   "cell_type": "markdown",
   "metadata": {
    "id": "EJzFhIMR0kR1"
   },
   "source": [
    "## Make a retriever"
   ]
  },
  {
   "cell_type": "code",
   "execution_count": 23,
   "metadata": {
    "executionInfo": {
     "elapsed": 346,
     "status": "ok",
     "timestamp": 1733344647736,
     "user": {
      "displayName": "Reenal Boddul",
      "userId": "02957507870695799921"
     },
     "user_tz": -60
    },
    "id": "RmTn7rPv0epV"
   },
   "outputs": [],
   "source": [
    "retriever = vectordb.as_retriever()"
   ]
  },
  {
   "cell_type": "code",
   "execution_count": null,
   "metadata": {
    "colab": {
     "base_uri": "https://localhost:8080/"
    },
    "executionInfo": {
     "elapsed": 786,
     "status": "ok",
     "timestamp": 1733344650305,
     "user": {
      "displayName": "Reenal Boddul",
      "userId": "02957507870695799921"
     },
     "user_tz": -60
    },
    "id": "O-n5JFnC0enF",
    "outputId": "ff59bb0c-ac5c-4a04-bc3d-3d1f346c4de1"
   },
   "outputs": [],
   "source": [
    "docs = retriever.get_relevant_documents(\"How much money did Microsoft raise?\")"
   ]
  },
  {
   "cell_type": "code",
   "execution_count": null,
   "metadata": {
    "colab": {
     "base_uri": "https://localhost:8080/"
    },
    "executionInfo": {
     "elapsed": 1,
     "status": "ok",
     "timestamp": 1733344651101,
     "user": {
      "displayName": "Reenal Boddul",
      "userId": "02957507870695799921"
     },
     "user_tz": -60
    },
    "id": "Ik462eWC09o0",
    "outputId": "80eebcf9-e164-454b-ff44-6e08f337ec8a"
   },
   "outputs": [],
   "source": [
    "len(docs)"
   ]
  },
  {
   "cell_type": "code",
   "execution_count": null,
   "metadata": {
    "colab": {
     "base_uri": "https://localhost:8080/"
    },
    "executionInfo": {
     "elapsed": 3,
     "status": "ok",
     "timestamp": 1733344652654,
     "user": {
      "displayName": "Reenal Boddul",
      "userId": "02957507870695799921"
     },
     "user_tz": -60
    },
    "id": "2bm7qjSY1Z_u",
    "outputId": "a92a553d-f2ad-4f74-cf2c-2cd7fff9cf29"
   },
   "outputs": [],
   "source": [
    "docs"
   ]
  },
  {
   "cell_type": "code",
   "execution_count": 27,
   "metadata": {
    "executionInfo": {
     "elapsed": 2,
     "status": "ok",
     "timestamp": 1733344653102,
     "user": {
      "displayName": "Reenal Boddul",
      "userId": "02957507870695799921"
     },
     "user_tz": -60
    },
    "id": "ZW9MZ2wg0_Pe"
   },
   "outputs": [],
   "source": [
    "retriever = vectordb.as_retriever(search_kwargs={\"k\": 2})"
   ]
  },
  {
   "cell_type": "code",
   "execution_count": null,
   "metadata": {
    "colab": {
     "base_uri": "https://localhost:8080/",
     "height": 35
    },
    "executionInfo": {
     "elapsed": 7,
     "status": "ok",
     "timestamp": 1733344653953,
     "user": {
      "displayName": "Reenal Boddul",
      "userId": "02957507870695799921"
     },
     "user_tz": -60
    },
    "id": "Surg8Vn81KVu",
    "outputId": "0f2b88e6-0401-4be2-a970-13ddf0235799"
   },
   "outputs": [],
   "source": [
    "retriever.search_type"
   ]
  },
  {
   "cell_type": "code",
   "execution_count": null,
   "metadata": {
    "colab": {
     "base_uri": "https://localhost:8080/"
    },
    "executionInfo": {
     "elapsed": 3,
     "status": "ok",
     "timestamp": 1733344655080,
     "user": {
      "displayName": "Reenal Boddul",
      "userId": "02957507870695799921"
     },
     "user_tz": -60
    },
    "id": "v0JU9HMY1MB9",
    "outputId": "76d1e1fb-f864-46db-e5ea-17f2c974005e"
   },
   "outputs": [],
   "source": [
    "retriever.search_kwargs"
   ]
  },
  {
   "cell_type": "markdown",
   "metadata": {
    "id": "a-TDhGQR16p-"
   },
   "source": [
    "## Make a chain"
   ]
  },
  {
   "cell_type": "code",
   "execution_count": 30,
   "metadata": {
    "executionInfo": {
     "elapsed": 794,
     "status": "ok",
     "timestamp": 1733344657849,
     "user": {
      "displayName": "Reenal Boddul",
      "userId": "02957507870695799921"
     },
     "user_tz": -60
    },
    "id": "Nn3kej131QrV"
   },
   "outputs": [],
   "source": [
    "from langchain.chains import RetrievalQA"
   ]
  },
  {
   "cell_type": "code",
   "execution_count": null,
   "metadata": {
    "colab": {
     "base_uri": "https://localhost:8080/"
    },
    "executionInfo": {
     "elapsed": 392,
     "status": "ok",
     "timestamp": 1733344658240,
     "user": {
      "displayName": "Reenal Boddul",
      "userId": "02957507870695799921"
     },
     "user_tz": -60
    },
    "id": "r9P9QxwE2OUT",
    "outputId": "a9759688-ea7d-4415-cf15-416affe7a035"
   },
   "outputs": [],
   "source": [
    "llm=OpenAI()"
   ]
  },
  {
   "cell_type": "code",
   "execution_count": null,
   "metadata": {
    "colab": {
     "base_uri": "https://localhost:8080/"
    },
    "executionInfo": {
     "elapsed": 4,
     "status": "ok",
     "timestamp": 1733344658241,
     "user": {
      "displayName": "Reenal Boddul",
      "userId": "02957507870695799921"
     },
     "user_tz": -60
    },
    "id": "8CA-22em2a22",
    "outputId": "4937dd30-2311-40a4-919b-af606db41371"
   },
   "outputs": [],
   "source": [
    "llm"
   ]
  },
  {
   "cell_type": "code",
   "execution_count": 33,
   "metadata": {
    "executionInfo": {
     "elapsed": 1,
     "status": "ok",
     "timestamp": 1733344659254,
     "user": {
      "displayName": "Reenal Boddul",
      "userId": "02957507870695799921"
     },
     "user_tz": -60
    },
    "id": "beXjCxaN2IJG"
   },
   "outputs": [],
   "source": [
    "# create the chain to answer questions\n",
    "qa_chain = RetrievalQA.from_chain_type(llm=OpenAI(),\n",
    "                                  chain_type=\"stuff\",\n",
    "                                  retriever=retriever,\n",
    "                                  return_source_documents=True)"
   ]
  },
  {
   "cell_type": "code",
   "execution_count": 34,
   "metadata": {
    "executionInfo": {
     "elapsed": 1,
     "status": "ok",
     "timestamp": 1733344659725,
     "user": {
      "displayName": "Reenal Boddul",
      "userId": "02957507870695799921"
     },
     "user_tz": -60
    },
    "id": "WROKjzKL24IX"
   },
   "outputs": [],
   "source": [
    "## Cite sources\n",
    "def process_llm_response(llm_response):\n",
    "    print(llm_response['result'])\n",
    "    print('\\n\\nSources:')\n",
    "    for source in llm_response[\"source_documents\"]:\n",
    "        print(source.metadata['source'])"
   ]
  },
  {
   "cell_type": "code",
   "execution_count": null,
   "metadata": {
    "colab": {
     "base_uri": "https://localhost:8080/"
    },
    "executionInfo": {
     "elapsed": 1868,
     "status": "ok",
     "timestamp": 1733344662194,
     "user": {
      "displayName": "Reenal Boddul",
      "userId": "02957507870695799921"
     },
     "user_tz": -60
    },
    "id": "lzu2VvyD2qLm",
    "outputId": "57101f64-b423-42b5-c368-4d47999a9cff"
   },
   "outputs": [],
   "source": [
    "# full example\n",
    "query = \"How much money did Microsoft raise?\"\n",
    "llm_response = qa_chain(query)\n",
    "process_llm_response(llm_response)"
   ]
  },
  {
   "cell_type": "code",
   "execution_count": null,
   "metadata": {
    "colab": {
     "base_uri": "https://localhost:8080/"
    },
    "executionInfo": {
     "elapsed": 2331,
     "status": "ok",
     "timestamp": 1733344664523,
     "user": {
      "displayName": "Reenal Boddul",
      "userId": "02957507870695799921"
     },
     "user_tz": -60
    },
    "id": "RSb1Fi-C28pl",
    "outputId": "bf250108-c0b3-4c24-eb5a-a5f9b1e8b02d"
   },
   "outputs": [],
   "source": [
    "# break it down\n",
    "query = \"What is the news about Pando?\"\n",
    "llm_response = qa_chain(query)\n",
    "process_llm_response(llm_response)"
   ]
  },
  {
   "cell_type": "markdown",
   "metadata": {
    "id": "IdW5iRZL3XEG"
   },
   "source": [
    "## Deleteing the DB\n"
   ]
  },
  {
   "cell_type": "code",
   "execution_count": null,
   "metadata": {
    "colab": {
     "base_uri": "https://localhost:8080/"
    },
    "executionInfo": {
     "elapsed": 6,
     "status": "ok",
     "timestamp": 1733344664523,
     "user": {
      "displayName": "Reenal Boddul",
      "userId": "02957507870695799921"
     },
     "user_tz": -60
    },
    "id": "sLPJpkKj3Suf",
    "outputId": "70425e1a-db82-4b9c-d218-d17466be09e1"
   },
   "outputs": [],
   "source": [
    "!zip -r db.zip ./db"
   ]
  },
  {
   "cell_type": "code",
   "execution_count": 38,
   "metadata": {
    "executionInfo": {
     "elapsed": 480,
     "status": "ok",
     "timestamp": 1733344665001,
     "user": {
      "displayName": "Reenal Boddul",
      "userId": "02957507870695799921"
     },
     "user_tz": -60
    },
    "id": "ff6o8fOl3ate"
   },
   "outputs": [],
   "source": [
    "# To cleanup, you can delete the collection\n",
    "vectordb.delete_collection()\n",
    "vectordb.persist()\n",
    "\n",
    "# delete the directory\n",
    "!rm -rf db/"
   ]
  },
  {
   "cell_type": "markdown",
   "metadata": {
    "id": "q4nRn_TC3fy1"
   },
   "source": [
    "## Starting again loading the db"
   ]
  },
  {
   "cell_type": "code",
   "execution_count": null,
   "metadata": {
    "colab": {
     "base_uri": "https://localhost:8080/"
    },
    "executionInfo": {
     "elapsed": 7,
     "status": "ok",
     "timestamp": 1733344675526,
     "user": {
      "displayName": "Reenal Boddul",
      "userId": "02957507870695799921"
     },
     "user_tz": -60
    },
    "id": "W183alsq3dOH",
    "outputId": "fa14cc36-15b2-49c5-89c4-5420b2b03e34"
   },
   "outputs": [],
   "source": [
    "!unzip db.zip"
   ]
  },
  {
   "cell_type": "code",
   "execution_count": null,
   "metadata": {
    "id": "pTnsWx3c3iZW"
   },
   "outputs": [],
   "source": []
  }
 ],
 "metadata": {
  "accelerator": "GPU",
  "colab": {
   "gpuType": "T4",
   "provenance": []
  },
  "kernelspec": {
   "display_name": "Python 3",
   "name": "python3"
  },
  "language_info": {
   "name": "python"
  }
 },
 "nbformat": 4,
 "nbformat_minor": 0
}
